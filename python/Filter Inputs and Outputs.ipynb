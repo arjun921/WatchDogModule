{
 "cells": [
  {
   "cell_type": "code",
   "execution_count": 17,
   "metadata": {
    "collapsed": false
   },
   "outputs": [
    {
     "name": "stdout",
     "output_type": "stream",
     "text": [
      "Enter file name to open:\n",
      "config.txt\n"
     ]
    }
   ],
   "source": [
    "openFile = open(input('Enter file name to open:\\n'),'r')"
   ]
  },
  {
   "cell_type": "code",
   "execution_count": 18,
   "metadata": {
    "collapsed": false
   },
   "outputs": [],
   "source": [
    "com = []\n",
    "s = openFile.readline()\n",
    "while s:\n",
    "    com.append(s)\n",
    "    s = openFile.readline()"
   ]
  },
  {
   "cell_type": "code",
   "execution_count": 19,
   "metadata": {
    "collapsed": true
   },
   "outputs": [],
   "source": [
    "#LEGEND\n",
    "backspace = '\\x08\\x1b[K'\n",
    "enter = '\\n'\n",
    "folderBegin = '\\x1b[01;34m'\n",
    "folderEnd = '\\x1b[0m'\n",
    "inputBeginining = '\\x1b]0;'"
   ]
  },
  {
   "cell_type": "code",
   "execution_count": 20,
   "metadata": {
    "collapsed": false
   },
   "outputs": [],
   "source": [
    "#writes inputs to file\n",
    "writeFile = open('inputs.txt','w')\n",
    "arrrr = []\n",
    "for x in com:\n",
    "    if x.find('\\x1b]0;')==0:\n",
    "#         print(x)\n",
    "#        arrrr.append(x)\n",
    "        writeFile.write(str(x))\n",
    "#         inputs.append(x[0:x.find('\\n')])\n",
    "writeFile.close()\n",
    "#arrrr\n"
   ]
  },
  {
   "cell_type": "code",
   "execution_count": 15,
   "metadata": {
    "collapsed": true
   },
   "outputs": [],
   "source": [
    "#finds inputs in list of I/O\n",
    "# for x in com:\n",
    "#     if x.find('\\x1b]0;')==0:\n",
    "#         print(x)"
   ]
  },
  {
   "cell_type": "code",
   "execution_count": 16,
   "metadata": {
    "collapsed": true
   },
   "outputs": [],
   "source": [
    "#find outputs in list of I/O\n",
    "# for x in com:\n",
    "#     if x.find('\\x1b]0;')!=0:\n",
    "#         print(x[0:x.find('\\n')])"
   ]
  }
 ],
 "metadata": {
  "anaconda-cloud": {},
  "kernelspec": {
   "display_name": "Python [conda root]",
   "language": "python",
   "name": "conda-root-py"
  },
  "language_info": {
   "codemirror_mode": {
    "name": "ipython",
    "version": 3
   },
   "file_extension": ".py",
   "mimetype": "text/x-python",
   "name": "python",
   "nbconvert_exporter": "python",
   "pygments_lexer": "ipython3",
   "version": "3.5.2"
  }
 },
 "nbformat": 4,
 "nbformat_minor": 1
}
