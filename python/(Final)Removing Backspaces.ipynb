{
 "cells": [
  {
   "cell_type": "code",
   "execution_count": 7,
   "metadata": {
    "collapsed": false,
    "scrolled": true
   },
   "outputs": [
    {
     "name": "stdout",
     "output_type": "stream",
     "text": [
      "Enter file name to open:\n",
      "TrackedInputs.txt\n"
     ]
    }
   ],
   "source": [
    "openFile = open(input('Enter file name to open:\\n'),'r')"
   ]
  },
  {
   "cell_type": "code",
   "execution_count": 8,
   "metadata": {
    "collapsed": false
   },
   "outputs": [],
   "source": [
    "com = []\n",
    "s = openFile.readline()\n",
    "while s:\n",
    "    com.append(s)\n",
    "    s = openFile.readline()"
   ]
  },
  {
   "cell_type": "code",
   "execution_count": 9,
   "metadata": {
    "collapsed": true
   },
   "outputs": [],
   "source": [
    "#KEY\n",
    "backspace = '\\x08\\x1b[K'\n",
    "enter = '\\n'\n",
    "folderBegin = '\\x1b[01;34m'\n",
    "folderEnd = '\\x1b[0m'\n",
    "inputBeginining = '\\x1b]0;'"
   ]
  },
  {
   "cell_type": "code",
   "execution_count": 10,
   "metadata": {
    "collapsed": false
   },
   "outputs": [
    {
     "name": "stdout",
     "output_type": "stream",
     "text": [
      "\u001b]0;User1@ubuntu: ~\u0007User1@ubuntu:~$ ssh  \b\u001b[Kparallels@10.211.55.11\n",
      "\n",
      "\u001b]0;parallels@ubuntu: ~\u0007parallels@ubuntu:~$ ls\n",
      "\n",
      "\u001b]0;parallels@ubuntu: ~\u0007parallels@ubuntu:~$ cd \b\u001b[K\b\u001b[K\b\u001b[Ksudo\b\u001b[K\b\u001b[K\b\u001b[K\b\u001b[K\u0007sudo apt-get install apacje\b\u001b[K\b\u001b[Khe2\n",
      "\n",
      "\u001b]0;parallels@ubuntu: ~\u0007parallels@ubuntu:~$ sudo apt-get upda\n",
      "\n",
      "\u001b]0;parallels@ubuntu: ~\u0007parallels@ubuntu:~$ sudo apt-get update\n",
      "\n",
      "\u001b]0;parallels@ubuntu: ~\u0007parallels@ubuntu:~$ exit\n",
      "\n",
      "\u001b]0;User1@ubuntu: ~\u0007User1@ubuntu:~$ exit\n",
      "\n"
     ]
    }
   ],
   "source": [
    "#find outputs in list of I/O and add to list inputs[]\n",
    "inputs=[]\n",
    "for x in com:\n",
    "    if x.find('\\x1b]0;')==0:\n",
    "        print(x)\n",
    "        inputs.append(x[0:x.find('\\n')])\n",
    "        "
   ]
  },
  {
   "cell_type": "code",
   "execution_count": 11,
   "metadata": {
    "collapsed": false
   },
   "outputs": [],
   "source": [
    "import re\n",
    "def apply_backspace(s):\n",
    "    while True:\n",
    "        # if you find a character followed by a backspace, remove both\n",
    "        t = re.sub('.someRandChar', '', s, count=1)\n",
    "        if len(s) == len(t):\n",
    "            # now remove any backspaces from beginning of string\n",
    "            return re.sub('someRandChar+', '', t)\n",
    "        s = t"
   ]
  },
  {
   "cell_type": "code",
   "execution_count": 12,
   "metadata": {
    "collapsed": false
   },
   "outputs": [
    {
     "name": "stdout",
     "output_type": "stream",
     "text": [
      "Enter file name to save filtered outputs:\n",
      "inputs.txt\n"
     ]
    }
   ],
   "source": [
    "file_ = input('Enter file name to save filtered outputs:\\n')\n",
    "writeFile = open(file_,'w')\n",
    "x = \"\"\n",
    "for a in inputs:\n",
    "    av = (a[a.find('$')+2:])\n",
    "    x = apply_backspace(av.replace('\\x08\\x1b[K','someRandChar')) + '\\n'\n",
    "    writeFile.write(str(x))\n",
    "writeFile.close()"
   ]
  }
 ],
 "metadata": {
  "anaconda-cloud": {},
  "kernelspec": {
   "display_name": "Python [default]",
   "language": "python",
   "name": "python3"
  },
  "language_info": {
   "codemirror_mode": {
    "name": "ipython",
    "version": 3
   },
   "file_extension": ".py",
   "mimetype": "text/x-python",
   "name": "python",
   "nbconvert_exporter": "python",
   "pygments_lexer": "ipython3",
   "version": "3.5.2"
  }
 },
 "nbformat": 4,
 "nbformat_minor": 1
}
