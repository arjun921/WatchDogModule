{
 "cells": [
  {
   "cell_type": "code",
   "execution_count": 20,
   "metadata": {
    "collapsed": false,
    "scrolled": true
   },
   "outputs": [
    {
     "name": "stdout",
     "output_type": "stream",
     "text": [
      "Enter file name to open:\n",
      "../input/TrackedInputs.txt\n"
     ]
    }
   ],
   "source": [
    "openFile = open(input('Enter file name to open:\\n'),'r')"
   ]
  },
  {
   "cell_type": "code",
   "execution_count": 21,
   "metadata": {
    "collapsed": false
   },
   "outputs": [],
   "source": [
    "com = []\n",
    "s = openFile.readline()\n",
    "while s:\n",
    "    com.append(s)\n",
    "    s = openFile.readline()"
   ]
  },
  {
   "cell_type": "code",
   "execution_count": 22,
   "metadata": {
    "collapsed": true
   },
   "outputs": [],
   "source": [
    "#KEY\n",
    "backspace = '\\x08\\x1b[K'\n",
    "enter = '\\n'\n",
    "folderBegin = '\\x1b[01;34m'\n",
    "folderEnd = '\\x1b[0m'\n",
    "inputBeginining = '\\x1b]0;'"
   ]
  },
  {
   "cell_type": "code",
   "execution_count": 23,
   "metadata": {
    "collapsed": false
   },
   "outputs": [],
   "source": [
    "#find outputs in list of I/O and add to list inputs[]\n",
    "inputs=[]\n",
    "for x in com:\n",
    "    if x.find('\\x1b]0;')==0:\n",
    "        inputs.append(x[0:x.find('\\n')])"
   ]
  },
  {
   "cell_type": "code",
   "execution_count": 24,
   "metadata": {
    "collapsed": false
   },
   "outputs": [],
   "source": [
    "import re\n",
    "def apply_backspace(s):\n",
    "    while True:\n",
    "        # if you find a character followed by a backspace, remove both\n",
    "        t = re.sub('.someRandChar', '', s, count=1)\n",
    "        if len(s) == len(t):\n",
    "            # now remove any backspaces from beginning of string\n",
    "            return re.sub('someRandChar+', '', t)\n",
    "        s = t"
   ]
  },
  {
   "cell_type": "code",
   "execution_count": 25,
   "metadata": {
    "collapsed": false
   },
   "outputs": [
    {
     "name": "stdout",
     "output_type": "stream",
     "text": [
      "Enter file name to save filtered outputs:\n",
      "../Web/Processed.txt\n"
     ]
    }
   ],
   "source": [
    "file_ = input('Enter file name to save filtered outputs:\\n')\n",
    "writeFile = open(file_,'w')\n",
    "x = \"\"\n",
    "for a in inputs:\n",
    "    av = (a[a.find('$')+2:])\n",
    "    x = apply_backspace(av.replace('\\x08\\x1b[K','someRandChar')) + '\\n'\n",
    "    writeFile.write(str(x))\n",
    "writeFile.close()"
   ]
  }
 ],
 "metadata": {
  "anaconda-cloud": {},
  "kernelspec": {
   "display_name": "Python [default]",
   "language": "python",
   "name": "python3"
  },
  "language_info": {
   "codemirror_mode": {
    "name": "ipython",
    "version": 3
   },
   "file_extension": ".py",
   "mimetype": "text/x-python",
   "name": "python",
   "nbconvert_exporter": "python",
   "pygments_lexer": "ipython3",
   "version": "3.5.2"
  }
 },
 "nbformat": 4,
 "nbformat_minor": 1
}
