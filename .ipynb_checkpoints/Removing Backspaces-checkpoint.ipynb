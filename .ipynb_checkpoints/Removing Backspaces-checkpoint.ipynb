{
 "cells": [
  {
   "cell_type": "code",
   "execution_count": 1,
   "metadata": {
    "collapsed": true
   },
   "outputs": [],
   "source": [
    "openFile = open('config.txt','r')"
   ]
  },
  {
   "cell_type": "code",
   "execution_count": 2,
   "metadata": {
    "collapsed": false
   },
   "outputs": [],
   "source": [
    "com = []\n",
    "s = openFile.readline()\n",
    "while s:\n",
    "    com.append(s)\n",
    "    s = openFile.readline()"
   ]
  },
  {
   "cell_type": "code",
   "execution_count": 3,
   "metadata": {
    "collapsed": true
   },
   "outputs": [],
   "source": [
    "#KEY\n",
    "backspace = '\\x08\\x1b[K'\n",
    "enter = '\\n'\n",
    "folderBegin = '\\x1b[01;34m'\n",
    "folderEnd = '\\x1b[0m'\n",
    "inputBeginining = '\\x1b]0;'"
   ]
  },
  {
   "cell_type": "code",
   "execution_count": 4,
   "metadata": {
    "collapsed": false
   },
   "outputs": [
    {
     "data": {
      "text/plain": [
       "['\\x1b]0;User1@ubuntu: ~\\x07User1@ubuntu:~$ ssh  \\x08\\x1b[Kparallels@10.211.55.11',\n",
       " '\\x1b]0;parallels@ubuntu: ~\\x07parallels@ubuntu:~$ ls',\n",
       " '\\x1b]0;parallels@ubuntu: ~\\x07parallels@ubuntu:~$ cd \\x08\\x1b[K\\x08\\x1b[K\\x08\\x1b[Ksudo\\x08\\x1b[K\\x08\\x1b[K\\x08\\x1b[K\\x08\\x1b[K\\x07sudo apt-get install apacje\\x08\\x1b[K\\x08\\x1b[Khe2',\n",
       " '\\x1b]0;parallels@ubuntu: ~\\x07parallels@ubuntu:~$ sudo apt-get upda',\n",
       " '\\x1b]0;parallels@ubuntu: ~\\x07parallels@ubuntu:~$ sudo apt-get update',\n",
       " '\\x1b]0;parallels@ubuntu: ~\\x07parallels@ubuntu:~$ exit',\n",
       " '\\x1b]0;User1@ubuntu: ~\\x07User1@ubuntu:~$ exit']"
      ]
     },
     "execution_count": 4,
     "metadata": {},
     "output_type": "execute_result"
    }
   ],
   "source": [
    "#find outputs in list of I/O and add to list inputs[]\n",
    "inputs=[]\n",
    "for x in com:\n",
    "    if x.find('\\x1b]0;')==0:\n",
    "        inputs.append(x[0:x.find('\\n')])\n",
    "inputs"
   ]
  },
  {
   "cell_type": "code",
   "execution_count": 10,
   "metadata": {
    "collapsed": false
   },
   "outputs": [],
   "source": [
    "import re\n",
    "def apply_backspace(s):\n",
    "    while True:\n",
    "        # if you find a character followed by a backspace, remove both\n",
    "        t = re.sub('.someRandChar', '', s, count=1)\n",
    "        if len(s) == len(t):\n",
    "            # now remove any backspaces from beginning of string\n",
    "            return re.sub('someRandChar+', '', t)\n",
    "        s = t"
   ]
  },
  {
   "cell_type": "code",
   "execution_count": 14,
   "metadata": {
    "collapsed": false
   },
   "outputs": [],
   "source": [
    "writeFile = open('inputs.txt','w')\n",
    "x = \"\"\n",
    "for a in inputs:\n",
    "    av = (a[a.find('$')+2:])\n",
    "    x = apply_backspace(av.replace('\\x08\\x1b[K','someRandChar')) + '\\n'\n",
    "    writeFile.write(str(x))\n",
    "writeFile.close()"
   ]
  }
 ],
 "metadata": {
  "anaconda-cloud": {},
  "kernelspec": {
   "display_name": "Python [conda root]",
   "language": "python",
   "name": "conda-root-py"
  },
  "language_info": {
   "codemirror_mode": {
    "name": "ipython",
    "version": 3
   },
   "file_extension": ".py",
   "mimetype": "text/x-python",
   "name": "python",
   "nbconvert_exporter": "python",
   "pygments_lexer": "ipython3",
   "version": "3.5.2"
  }
 },
 "nbformat": 4,
 "nbformat_minor": 1
}
